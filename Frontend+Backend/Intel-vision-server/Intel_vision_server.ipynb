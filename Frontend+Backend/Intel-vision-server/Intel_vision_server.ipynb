{
  "cells": [
    {
      "cell_type": "code",
      "execution_count": 1,
      "metadata": {
        "id": "VjYy0F2gZIPR"
      },
      "outputs": [
        {
          "name": "stdout",
          "output_type": "stream",
          "text": [
            "c:\\Users\\amosm\\Desktop\\Intel-GPT\\Frontend+Backend\\Intel-vision-server\\LLaVA\n"
          ]
        },
        {
          "name": "stderr",
          "output_type": "stream",
          "text": [
            "Cloning into 'LLaVA'...\n"
          ]
        },
        {
          "name": "stdout",
          "output_type": "stream",
          "text": [
            "Requirement already satisfied: ninja in c:\\users\\amosm\\anaconda3\\envs\\dashdeploy\\lib\\site-packages (1.11.1.1)\n",
            "Collecting flash-attn\n",
            "  Using cached flash_attn-2.3.3.tar.gz (2.3 MB)\n",
            "  Preparing metadata (setup.py): started\n",
            "  Preparing metadata (setup.py): finished with status 'error'\n"
          ]
        },
        {
          "name": "stderr",
          "output_type": "stream",
          "text": [
            "  error: subprocess-exited-with-error\n",
            "  \n",
            "  × python setup.py egg_info did not run successfully.\n",
            "  │ exit code: 1\n",
            "  ╰─> [6 lines of output]\n",
            "      Traceback (most recent call last):\n",
            "        File \"<string>\", line 2, in <module>\n",
            "        File \"<pip-setuptools-caller>\", line 34, in <module>\n",
            "        File \"C:\\Users\\amosm\\AppData\\Local\\Temp\\pip-install-b7o1o9d_\\flash-attn_3195c3e3307146448cf5aec5af5e7983\\setup.py\", line 18, in <module>\n",
            "          import torch\n",
            "      ModuleNotFoundError: No module named 'torch'\n",
            "      [end of output]\n",
            "  \n",
            "  note: This error originates from a subprocess, and is likely not a problem with pip.\n",
            "error: metadata-generation-failed\n",
            "\n",
            "× Encountered error while generating package metadata.\n",
            "╰─> See above for output.\n",
            "\n",
            "note: This is an issue with the package mentioned above, not pip.\n",
            "hint: See above for details.\n"
          ]
        },
        {
          "name": "stdout",
          "output_type": "stream",
          "text": [
            "Obtaining file:///C:/Users/amosm/Desktop/Intel-GPT/Frontend%2BBackend/Intel-vision-server/LLaVA\n",
            "  Installing build dependencies: started\n",
            "  Installing build dependencies: finished with status 'done'\n",
            "  Checking if build backend supports build_editable: started\n",
            "  Checking if build backend supports build_editable: finished with status 'done'\n",
            "  Getting requirements to build editable: started\n",
            "  Getting requirements to build editable: finished with status 'done'\n",
            "  Installing backend dependencies: started\n",
            "  Installing backend dependencies: finished with status 'done'\n",
            "  Preparing editable metadata (pyproject.toml): started\n",
            "  Preparing editable metadata (pyproject.toml): finished with status 'done'\n",
            "Collecting einops (from llava==1.1.1)\n",
            "  Obtaining dependency information for einops from https://files.pythonhosted.org/packages/29/0b/2d1c0ebfd092e25935b86509a9a817159212d82aa43d7fb07eca4eeff2c2/einops-0.7.0-py3-none-any.whl.metadata\n",
            "  Using cached einops-0.7.0-py3-none-any.whl.metadata (13 kB)\n",
            "Collecting fastapi (from llava==1.1.1)\n",
            "  Obtaining dependency information for fastapi from https://files.pythonhosted.org/packages/db/30/b8d323119c37e15b7fa639e65e0eb7d81eb675ba166ac83e695aad3bd321/fastapi-0.104.0-py3-none-any.whl.metadata\n",
            "  Using cached fastapi-0.104.0-py3-none-any.whl.metadata (24 kB)\n",
            "Collecting gradio==3.35.2 (from llava==1.1.1)\n",
            "  Obtaining dependency information for gradio==3.35.2 from https://files.pythonhosted.org/packages/50/70/ed0ba0fb5c3b1cb2e481717ad190056a4c9a0ef2f296b871e10375b2ab83/gradio-3.35.2-py3-none-any.whl.metadata\n",
            "  Using cached gradio-3.35.2-py3-none-any.whl.metadata (15 kB)\n",
            "Collecting markdown2[all] (from llava==1.1.1)\n",
            "  Obtaining dependency information for markdown2[all] from https://files.pythonhosted.org/packages/f1/98/61276a753f078dd2f3171c9a69fd3f451d220e806b2b1cdca41b8e368b0f/markdown2-2.4.10-py2.py3-none-any.whl.metadata\n",
            "  Using cached markdown2-2.4.10-py2.py3-none-any.whl.metadata (2.0 kB)\n",
            "Collecting numpy (from llava==1.1.1)\n",
            "  Obtaining dependency information for numpy from https://files.pythonhosted.org/packages/82/0f/3f712cd84371636c5375d2dd70e7514d264cec6bdfc3d7997a4236e9f948/numpy-1.26.1-cp311-cp311-win_amd64.whl.metadata\n",
            "  Using cached numpy-1.26.1-cp311-cp311-win_amd64.whl.metadata (61 kB)\n",
            "Requirement already satisfied: requests in c:\\users\\amosm\\anaconda3\\envs\\dashdeploy\\lib\\site-packages (from llava==1.1.1) (2.31.0)\n",
            "Collecting sentencepiece (from llava==1.1.1)\n",
            "  Using cached sentencepiece-0.1.99-cp311-cp311-win_amd64.whl (977 kB)\n",
            "Collecting tokenizers>=0.12.1 (from llava==1.1.1)\n",
            "  Obtaining dependency information for tokenizers>=0.12.1 from https://files.pythonhosted.org/packages/c3/29/0d9975fb739bdbefc73b6c23f335ea18e752fe6d2e91f3266a10dc8be140/tokenizers-0.14.1-cp311-none-win_amd64.whl.metadata\n",
            "  Using cached tokenizers-0.14.1-cp311-none-win_amd64.whl.metadata (6.8 kB)\n",
            "Collecting torch==2.0.1 (from llava==1.1.1)\n",
            "  Using cached torch-2.0.1-cp311-cp311-win_amd64.whl (172.3 MB)\n",
            "Collecting torchvision==0.15.2 (from llava==1.1.1)\n",
            "  Using cached torchvision-0.15.2-cp311-cp311-win_amd64.whl (1.2 MB)\n",
            "Collecting uvicorn (from llava==1.1.1)\n",
            "  Obtaining dependency information for uvicorn from https://files.pythonhosted.org/packages/79/96/b0882a1c3f7ef3dd86879e041212ae5b62b4bd352320889231cc735a8e8f/uvicorn-0.23.2-py3-none-any.whl.metadata\n",
            "  Using cached uvicorn-0.23.2-py3-none-any.whl.metadata (6.2 kB)\n",
            "Collecting wandb (from llava==1.1.1)\n",
            "  Obtaining dependency information for wandb from https://files.pythonhosted.org/packages/1c/5e/0362fa88679852c7fd3ac85ee5bd949426c4a51a61379010d4089be6d7ac/wandb-0.15.12-py3-none-any.whl.metadata\n",
            "  Using cached wandb-0.15.12-py3-none-any.whl.metadata (9.8 kB)\n",
            "Collecting shortuuid (from llava==1.1.1)\n",
            "  Using cached shortuuid-1.0.11-py3-none-any.whl (10 kB)\n",
            "Collecting httpx==0.24.0 (from llava==1.1.1)\n",
            "  Using cached httpx-0.24.0-py3-none-any.whl (75 kB)\n",
            "Collecting deepspeed==0.9.5 (from llava==1.1.1)\n",
            "  Using cached deepspeed-0.9.5.tar.gz (809 kB)\n",
            "  Preparing metadata (setup.py): started\n",
            "  Preparing metadata (setup.py): finished with status 'error'\n"
          ]
        },
        {
          "name": "stderr",
          "output_type": "stream",
          "text": [
            "  error: subprocess-exited-with-error\n",
            "  \n",
            "  × python setup.py egg_info did not run successfully.\n",
            "  │ exit code: 1\n",
            "  ╰─> [9 lines of output]\n",
            "      [WARNING] Unable to import torch, pre-compiling ops will be disabled. Please visit https://pytorch.org/ to see how to properly install torch on your system.\n",
            "      \u001b[93m [WARNING] \u001b[0m unable to import torch, please install it if you want to pre-compile any deepspeed ops.\n",
            "      DS_BUILD_OPS=1\n",
            "      Traceback (most recent call last):\n",
            "        File \"<string>\", line 2, in <module>\n",
            "        File \"<pip-setuptools-caller>\", line 34, in <module>\n",
            "        File \"C:\\Users\\amosm\\AppData\\Local\\Temp\\pip-install-r7jyeynh\\deepspeed_d3e036029a36421794bb71110d7d0591\\setup.py\", line 129, in <module>\n",
            "          assert torch_available, \"Unable to pre-compile ops without torch installed. Please install torch before attempting to pre-compile ops.\"\n",
            "      AssertionError: Unable to pre-compile ops without torch installed. Please install torch before attempting to pre-compile ops.\n",
            "      [end of output]\n",
            "  \n",
            "  note: This error originates from a subprocess, and is likely not a problem with pip.\n",
            "error: metadata-generation-failed\n",
            "\n",
            "× Encountered error while generating package metadata.\n",
            "╰─> See above for output.\n",
            "\n",
            "note: This is an issue with the package mentioned above, not pip.\n",
            "hint: See above for details.\n"
          ]
        }
      ],
      "source": [
        "!git clone  https://github.com/AmosMaru/LLaVA.git\n",
        "%cd LLaVA\n",
        "\n",
        "!pip install ninja\n",
        "!pip install flash-attn --no-build-isolation\n",
        "\n",
        "!pip install -e .\n",
        "\n",
        "# !python -m llava.serve.cli \\\n",
        "#     --model-path 4bit/llava-v1.5-7b-5GB \\\n",
        "#     --image-file \"https://llava-vl.github.io/static/images/view.jpg\" \\\n",
        "#     --load-8bit"
      ]
    },
    {
      "cell_type": "code",
      "execution_count": 8,
      "metadata": {
        "id": "rF8HVaykSh3W"
      },
      "outputs": [
        {
          "name": "stderr",
          "output_type": "stream",
          "text": [
            "Exception in thread Thread-35 (<lambda>):\n",
            "Traceback (most recent call last):\n",
            "  File \"c:\\Users\\amosm\\anaconda3\\envs\\dashdeploy\\Lib\\threading.py\", line 1038, in _bootstrap_inner\n",
            "    self.run()\n",
            "  File \"c:\\Users\\amosm\\anaconda3\\envs\\dashdeploy\\Lib\\threading.py\", line 975, in run\n",
            "    self._target(*self._args, **self._kwargs)\n",
            "  File \"C:\\Users\\amosm\\AppData\\Local\\Temp\\ipykernel_7416\\1001678473.py\", line 3, in <lambda>\n",
            "  File \"c:\\Users\\amosm\\anaconda3\\envs\\dashdeploy\\Lib\\subprocess.py\", line 571, in run\n",
            "    raise CalledProcessError(retcode, process.args,\n",
            "subprocess.CalledProcessError: Command '['python3', '-m', 'llava.serve.controller', '--host', '0.0.0.0', '--port', '10000']' returned non-zero exit status 9009.\n"
          ]
        }
      ],
      "source": [
        "import threading\n",
        "import subprocess\n",
        "threading.Thread(target=lambda: subprocess.run(['python3', '-m', 'llava.serve.controller', '--host', '0.0.0.0', '--port', '10000'], check=True), daemon=True).start()"
      ]
    },
    {
      "cell_type": "code",
      "execution_count": 9,
      "metadata": {
        "id": "InQynkQkSh3X"
      },
      "outputs": [
        {
          "name": "stderr",
          "output_type": "stream",
          "text": [
            "Exception in thread Thread-36 (<lambda>):\n",
            "Traceback (most recent call last):\n",
            "  File \"c:\\Users\\amosm\\anaconda3\\envs\\dashdeploy\\Lib\\threading.py\", line 1038, in _bootstrap_inner\n",
            "    self.run()\n",
            "  File \"c:\\Users\\amosm\\anaconda3\\envs\\dashdeploy\\Lib\\threading.py\", line 975, in run\n",
            "    self._target(*self._args, **self._kwargs)\n",
            "  File \"C:\\Users\\amosm\\AppData\\Local\\Temp\\ipykernel_7416\\1334299690.py\", line 12, in <lambda>\n",
            "  File \"c:\\Users\\amosm\\anaconda3\\envs\\dashdeploy\\Lib\\subprocess.py\", line 571, in run\n",
            "    raise CalledProcessError(retcode, process.args,\n",
            "subprocess.CalledProcessError: Command '['python3', '-m', 'llava.serve.model_worker', '--host', '0.0.0.0', '--controller', 'http://localhost:10000', '--port', '40000', '--worker', 'http://localhost:40000', '--model-path', '4bit/llava-v1.5-7b-5GB', '--load-8bit']' returned non-zero exit status 9009.\n"
          ]
        }
      ],
      "source": [
        "import threading\n",
        "import subprocess\n",
        "command = [\n",
        "    'python3', '-m', 'llava.serve.model_worker',\n",
        "    '--host', '0.0.0.0',\n",
        "    '--controller', 'http://localhost:10000',\n",
        "    '--port', '40000',\n",
        "    '--worker', 'http://localhost:40000',\n",
        "    '--model-path', '4bit/llava-v1.5-7b-5GB',\n",
        "    '--load-8bit'\n",
        "]\n",
        "threading.Thread(target=lambda: subprocess.run(command, check=True, shell=False), daemon=True).start()"
      ]
    },
    {
      "cell_type": "code",
      "execution_count": 10,
      "metadata": {
        "id": "D7GedBLHSh3X"
      },
      "outputs": [
        {
          "name": "stderr",
          "output_type": "stream",
          "text": [
            "Traceback (most recent call last):\n",
            "  File \"<frozen runpy>\", line 189, in _run_module_as_main\n",
            "  File \"<frozen runpy>\", line 112, in _get_module_details\n",
            "  File \"c:\\Users\\amosm\\Desktop\\Intel-GPT\\Frontend+Backend\\Intel-vision-server\\LLaVA\\llava\\__init__.py\", line 1, in <module>\n",
            "    from .model import LlavaLlamaForCausalLM\n",
            "  File \"c:\\Users\\amosm\\Desktop\\Intel-GPT\\Frontend+Backend\\Intel-vision-server\\LLaVA\\llava\\model\\__init__.py\", line 1, in <module>\n",
            "    from .language_model.llava_llama import LlavaLlamaForCausalLM, LlavaConfig\n",
            "  File \"c:\\Users\\amosm\\Desktop\\Intel-GPT\\Frontend+Backend\\Intel-vision-server\\LLaVA\\llava\\model\\language_model\\llava_llama.py\", line 18, in <module>\n",
            "    import torch\n",
            "ModuleNotFoundError: No module named 'torch'\n"
          ]
        }
      ],
      "source": [
        "!python -m llava.serve.gradio_web_server --controller http://localhost:10000 --model-list-mode reload --share"
      ]
    },
    {
      "cell_type": "code",
      "execution_count": null,
      "metadata": {},
      "outputs": [],
      "source": []
    }
  ],
  "metadata": {
    "accelerator": "GPU",
    "colab": {
      "gpuType": "T4",
      "provenance": []
    },
    "kernelspec": {
      "display_name": "Python 3",
      "name": "python3"
    },
    "language_info": {
      "codemirror_mode": {
        "name": "ipython",
        "version": 3
      },
      "file_extension": ".py",
      "mimetype": "text/x-python",
      "name": "python",
      "nbconvert_exporter": "python",
      "pygments_lexer": "ipython3",
      "version": "3.11.5"
    }
  },
  "nbformat": 4,
  "nbformat_minor": 0
}
